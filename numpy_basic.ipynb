{
 "cells": [
  {
   "cell_type": "code",
   "execution_count": 1,
   "metadata": {},
   "outputs": [],
   "source": [
    "import numpy as np\n",
    "\n",
    "# some of reason numpy is faster than list \n",
    "# numpy uses contigious memory\n",
    "# numpy uses less memory than list\n",
    "# In list every time we have to check type\n",
    "\n",
    "\n",
    "\n"
   ]
  },
  {
   "cell_type": "code",
   "execution_count": 2,
   "metadata": {},
   "outputs": [
    {
     "name": "stdout",
     "output_type": "stream",
     "text": [
      "[1 2 2]\n"
     ]
    }
   ],
   "source": [
    "# way to create 1-d array\n",
    "\n",
    "a = np.array([1,2,2])\n",
    "print(a)\n",
    "\n"
   ]
  },
  {
   "cell_type": "code",
   "execution_count": 3,
   "metadata": {},
   "outputs": [
    {
     "name": "stdout",
     "output_type": "stream",
     "text": [
      "[[1 2 3]\n",
      " [1 1 1]]\n"
     ]
    }
   ],
   "source": [
    "# way to create 2-d array\n",
    "b = np.array([[1,2,3], [1, 1, 1]])\n",
    "print(b)"
   ]
  },
  {
   "cell_type": "code",
   "execution_count": 4,
   "metadata": {},
   "outputs": [
    {
     "name": "stdout",
     "output_type": "stream",
     "text": [
      "1\n",
      "2\n",
      "(2, 3)\n",
      "int32\n",
      "4\n",
      "12\n"
     ]
    }
   ],
   "source": [
    "# to get the dimension\n",
    "print(a.ndim)\n",
    "print(b.ndim)\n",
    "\n",
    "# get shape\n",
    "print(b.shape)\n",
    "\n",
    "#get data type\n",
    "print(a.dtype)\n",
    "\n",
    "# get the size\n",
    "print(a.itemsize)\n",
    "\n",
    "# get the total size\n",
    "print(a.nbytes)"
   ]
  },
  {
   "cell_type": "code",
   "execution_count": 5,
   "metadata": {},
   "outputs": [
    {
     "name": "stdout",
     "output_type": "stream",
     "text": [
      "[[ 1  2  3  4  5  6  7  8  9]\n",
      " [10 11 12 13 14 15 16 17 18]]\n",
      "9\n",
      "9\n"
     ]
    }
   ],
   "source": [
    "c = np.array([[1, 2, 3, 4, 5, 6,7 ,8 ,9], [10, 11, 12, 13, 14, 15,16, 17, 18]])\n",
    "print(c)\n",
    "\n",
    "# get the specific element\n",
    "print(c[0][8])\n",
    "\n",
    " # or you can use [r, c]\n",
    "print(c[0, 8])"
   ]
  },
  {
   "cell_type": "code",
   "execution_count": 6,
   "metadata": {},
   "outputs": [
    {
     "name": "stdout",
     "output_type": "stream",
     "text": [
      "[1 2 3 4 5 6 7 8 9]\n",
      "[1 2 3 4 5 6 7 8 9]\n",
      "[1 2 3 4 5 6 7 8 9]\n"
     ]
    }
   ],
   "source": [
    "# to get the specific row\n",
    "print(c[0][:])\n",
    "\n",
    "# or simply just c[0]\n",
    "print(c[0])\n",
    "\n",
    "# or another way is a[0, :]\n",
    "print(c[0, :])"
   ]
  },
  {
   "cell_type": "code",
   "execution_count": 7,
   "metadata": {},
   "outputs": [
    {
     "name": "stdout",
     "output_type": "stream",
     "text": [
      "[ 1 10]\n"
     ]
    }
   ],
   "source": [
    "# to get the specific column\n",
    "\n",
    "print(c[:, 0])"
   ]
  },
  {
   "cell_type": "code",
   "execution_count": 8,
   "metadata": {},
   "outputs": [
    {
     "name": "stdout",
     "output_type": "stream",
     "text": [
      "[2 4 6]\n"
     ]
    }
   ],
   "source": [
    "# getting a little more fancy [startIndex:endIndex:stepsize]\n",
    "print(c[0,1:-2:2])\n"
   ]
  },
  {
   "cell_type": "code",
   "execution_count": 9,
   "metadata": {},
   "outputs": [],
   "source": [
    "# to change the entire column\n",
    "c[:, 2] = [1, 2]"
   ]
  },
  {
   "cell_type": "code",
   "execution_count": 10,
   "metadata": {},
   "outputs": [
    {
     "name": "stdout",
     "output_type": "stream",
     "text": [
      "[[ 1  2  1  4  5  6  7  8  9]\n",
      " [10 11  2 13 14 15 16 17 18]]\n"
     ]
    }
   ],
   "source": [
    "print(c)"
   ]
  },
  {
   "cell_type": "code",
   "execution_count": 11,
   "metadata": {},
   "outputs": [
    {
     "name": "stdout",
     "output_type": "stream",
     "text": [
      "---zeros matrix----\n",
      "[0. 0. 0. 0. 0. 0. 0.]\n",
      "\n",
      "---multidimension zeroes matrix-----\n",
      "[[0. 0. 0. 0. 0.]\n",
      " [0. 0. 0. 0. 0.]\n",
      " [0. 0. 0. 0. 0.]\n",
      " [0. 0. 0. 0. 0.]]\n",
      "\n",
      "---ones matrix----\n",
      "[1 1 1 1 1 1 1 1]\n",
      "\n",
      "---multidimension ones matrix-----\n",
      "[[[1 1]\n",
      "  [1 1]\n",
      "  [1 1]\n",
      "  [1 1]]\n",
      "\n",
      " [[1 1]\n",
      "  [1 1]\n",
      "  [1 1]\n",
      "  [1 1]]\n",
      "\n",
      " [[1 1]\n",
      "  [1 1]\n",
      "  [1 1]\n",
      "  [1 1]]\n",
      "\n",
      " [[1 1]\n",
      "  [1 1]\n",
      "  [1 1]\n",
      "  [1 1]]]\n"
     ]
    }
   ],
   "source": [
    "# different way to initializing the arrays\n",
    "\n",
    "# zeors matrix\n",
    "print(\"---zeros matrix----\")\n",
    "print(np.zeros(7))\n",
    "\n",
    "# for multidimesinal\n",
    "print(\"\\n---multidimension zeroes matrix-----\")\n",
    "print(np.zeros((4, 5)))\n",
    "\n",
    "# 1's matrix\n",
    "print(\"\\n---ones matrix----\")\n",
    "print(np.ones(8, dtype='int32'))\n",
    "print(\"\\n---multidimension ones matrix-----\")\n",
    "\n",
    "print(np.ones((4,4, 2), dtype=\"int32\"))"
   ]
  },
  {
   "cell_type": "code",
   "execution_count": 12,
   "metadata": {},
   "outputs": [
    {
     "name": "stdout",
     "output_type": "stream",
     "text": [
      "[[100 100]\n",
      " [100 100]]\n"
     ]
    }
   ],
   "source": [
    "# create matrix with any diffirent numnber\n",
    "print(np.full((2,2), 100))"
   ]
  },
  {
   "cell_type": "code",
   "execution_count": 13,
   "metadata": {},
   "outputs": [
    {
     "data": {
      "text/plain": [
       "array([[0.3432322 , 0.31538208],\n",
       "       [0.74859435, 0.42940546],\n",
       "       [0.01011791, 0.59324982],\n",
       "       [0.68718587, 0.30277323]])"
      ]
     },
     "execution_count": 13,
     "metadata": {},
     "output_type": "execute_result"
    }
   ],
   "source": [
    "# creating a matrix of random decimal numbers\n",
    "np.random.rand(4,2)"
   ]
  },
  {
   "cell_type": "code",
   "execution_count": 14,
   "metadata": {},
   "outputs": [
    {
     "name": "stdout",
     "output_type": "stream",
     "text": [
      "[[1 1 2]\n",
      " [3 0 1]\n",
      " [2 0 2]]\n"
     ]
    },
    {
     "data": {
      "text/plain": [
       "array([[-2,  2, -4],\n",
       "       [-1,  5, -2],\n",
       "       [ 2,  1,  3]])"
      ]
     },
     "execution_count": 14,
     "metadata": {},
     "output_type": "execute_result"
    }
   ],
   "source": [
    "# creating a matrix of random integer values\n",
    "# using random.randint(meaximumElement(exclusive), size)\n",
    "print(np.random.randint(6, size=(3, 3)))\n",
    "\n",
    "# using random.randint(startElement, meaximumElement(exclusive), size)\n",
    "np.random.randint(-4, 6, size=(3, 3))"
   ]
  },
  {
   "cell_type": "code",
   "execution_count": 15,
   "metadata": {},
   "outputs": [
    {
     "data": {
      "text/plain": [
       "array([[1, 0, 0, 0],\n",
       "       [0, 1, 0, 0],\n",
       "       [0, 0, 1, 0],\n",
       "       [0, 0, 0, 1]])"
      ]
     },
     "execution_count": 15,
     "metadata": {},
     "output_type": "execute_result"
    }
   ],
   "source": [
    "# identity matrix\n",
    "np.identity(4, dtype=\"int32\")"
   ]
  },
  {
   "cell_type": "code",
   "execution_count": 16,
   "metadata": {},
   "outputs": [
    {
     "name": "stdout",
     "output_type": "stream",
     "text": [
      "[[1. 1. 1. 1. 1.]\n",
      " [1. 1. 1. 1. 1.]\n",
      " [1. 1. 1. 1. 1.]\n",
      " [1. 1. 1. 1. 1.]\n",
      " [1. 1. 1. 1. 1.]]\n",
      "[[0. 0. 0.]\n",
      " [0. 9. 0.]\n",
      " [0. 0. 0.]]\n",
      "[[1. 1. 1. 1. 1.]\n",
      " [1. 0. 0. 0. 1.]\n",
      " [1. 0. 9. 0. 1.]\n",
      " [1. 0. 0. 0. 1.]\n",
      " [1. 1. 1. 1. 1.]]\n"
     ]
    }
   ],
   "source": [
    "# some exercise\n",
    "\n",
    "z = np.ones((5, 5))\n",
    "print(z)\n",
    "x = np.zeros((3, 3))\n",
    "x[1,1] = 9\n",
    "print(x)\n",
    "\n",
    "z[1:4, 1:4] = x\n",
    "print(z)"
   ]
  },
  {
   "cell_type": "code",
   "execution_count": 17,
   "metadata": {},
   "outputs": [
    {
     "name": "stdout",
     "output_type": "stream",
     "text": [
      "[1 2 3 4]\n",
      "[3 4 5 6]\n"
     ]
    }
   ],
   "source": [
    " # mathematics\n",
    "    \n",
    "a = np.array([1,2,3,4])\n",
    "print(a)\n",
    "\n",
    "# add 2 to each element of array\n",
    "a = a+2\n",
    "print(a)\n"
   ]
  },
  {
   "cell_type": "code",
   "execution_count": 18,
   "metadata": {},
   "outputs": [
    {
     "name": "stdout",
     "output_type": "stream",
     "text": [
      "[1 2 3 4]\n",
      "[ 6  8 10 12]\n",
      "[1.5 2.  2.5 3. ]\n",
      "[ 9 16 25 36]\n"
     ]
    }
   ],
   "source": [
    "# subtract any number from each element of array\n",
    "print(a-2)\n",
    "\n",
    "# same for multiplication and division and power\n",
    "print(a*2)\n",
    "\n",
    "print(a/2)\n",
    "\n",
    "print(a**2)"
   ]
  },
  {
   "cell_type": "code",
   "execution_count": 19,
   "metadata": {},
   "outputs": [
    {
     "name": "stdout",
     "output_type": "stream",
     "text": [
      "[4 5 6 7]\n"
     ]
    }
   ],
   "source": [
    "# make sure that the length of both array should be same\n",
    "b= np.array([1, 1, 1, 1])\n",
    "print(a+b)"
   ]
  },
  {
   "cell_type": "code",
   "execution_count": 20,
   "metadata": {},
   "outputs": [
    {
     "name": "stdout",
     "output_type": "stream",
     "text": [
      "[ 0.14112001 -0.7568025  -0.95892427 -0.2794155 ]\n",
      "[-0.9899925  -0.65364362  0.28366219  0.96017029]\n"
     ]
    }
   ],
   "source": [
    "# take the sin and cos\n",
    "\n",
    "print(np.sin(a))\n",
    "print(np.cos(a))"
   ]
  },
  {
   "cell_type": "code",
   "execution_count": 21,
   "metadata": {},
   "outputs": [
    {
     "name": "stdout",
     "output_type": "stream",
     "text": [
      "[[3 3 3]\n",
      " [3 3 3]]\n",
      "[[3 3 3]\n",
      " [3 3 3]\n",
      " [3 3 3]]\n",
      "[[27 27 27]\n",
      " [27 27 27]]\n"
     ]
    }
   ],
   "source": [
    "# linear algerbra\n",
    "matrix1 = np.full((2,3) , 3, dtype=\"int32\")\n",
    "print(matrix1)\n",
    "\n",
    "matrix2 = np.full((3,3) , 3, dtype=\"int32\")\n",
    "print(matrix2)\n",
    "\n",
    "# multiplication of two matric\n",
    "print(np.matmul(matrix1, matrix2))"
   ]
  },
  {
   "cell_type": "code",
   "execution_count": 22,
   "metadata": {},
   "outputs": [
    {
     "name": "stdout",
     "output_type": "stream",
     "text": [
      "1.0\n"
     ]
    }
   ],
   "source": [
    "# find the determinant of matrix\n",
    "c = np.identity(3)\n",
    "print(np.linalg.det(c))"
   ]
  },
  {
   "cell_type": "code",
   "execution_count": 23,
   "metadata": {},
   "outputs": [
    {
     "name": "stdout",
     "output_type": "stream",
     "text": [
      "[0 2 1]\n"
     ]
    }
   ],
   "source": [
    "# statistics\n",
    "mat = np.array([[1, 2, 3], [0, 3, 1]])\n",
    "print(np.min(mat, axis=0))\n"
   ]
  },
  {
   "cell_type": "code",
   "execution_count": null,
   "metadata": {},
   "outputs": [],
   "source": [
    "\n",
    "\n",
    "\n",
    "\n",
    "\n",
    "\n",
    "\n",
    "\n"
   ]
  },
  {
   "cell_type": "code",
   "execution_count": null,
   "metadata": {},
   "outputs": [],
   "source": [
    "\n"
   ]
  }
 ],
 "metadata": {
  "kernelspec": {
   "display_name": "Python 3",
   "language": "python",
   "name": "python3"
  },
  "language_info": {
   "codemirror_mode": {
    "name": "ipython",
    "version": 3
   },
   "file_extension": ".py",
   "mimetype": "text/x-python",
   "name": "python",
   "nbconvert_exporter": "python",
   "pygments_lexer": "ipython3",
   "version": "3.7.4"
  }
 },
 "nbformat": 4,
 "nbformat_minor": 2
}
